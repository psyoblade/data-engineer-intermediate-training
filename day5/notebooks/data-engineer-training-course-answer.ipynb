{
 "cells": [
  {
   "cell_type": "markdown",
   "metadata": {},
   "source": [
    "# 5. 수집된 데이터 탐색\n",
    "## 5-1. 스파크 세션 생성\n",
    "### 5-1-1. 스파크 객체를 생성하는 코드를 작성하고, Shift+Enter 로 스파크 버전을 확인합니다"
   ]
  },
  {
   "cell_type": "code",
   "execution_count": 2,
   "metadata": {},
   "outputs": [
    {
     "data": {
      "text/html": [
       "\n",
       "            <div>\n",
       "                <p><b>SparkSession - in-memory</b></p>\n",
       "                \n",
       "        <div>\n",
       "            <p><b>SparkContext</b></p>\n",
       "\n",
       "            <p><a href=\"http://d8a85c43e009:4041\">Spark UI</a></p>\n",
       "\n",
       "            <dl>\n",
       "              <dt>Version</dt>\n",
       "                <dd><code>v3.0.1</code></dd>\n",
       "              <dt>Master</dt>\n",
       "                <dd><code>local[*]</code></dd>\n",
       "              <dt>AppName</dt>\n",
       "                <dd><code>Data Engineer Training Course</code></dd>\n",
       "            </dl>\n",
       "        </div>\n",
       "        \n",
       "            </div>\n",
       "        "
      ],
      "text/plain": [
       "<pyspark.sql.session.SparkSession at 0x7ff82f17b670>"
      ]
     },
     "execution_count": 2,
     "metadata": {},
     "output_type": "execute_result"
    }
   ],
   "source": [
    "# 여기에 실습 코드를 작성하고 실행하세요 (Shift+Enter)\n",
    "# 코어 스파크 라이브러리를 임포트 합니다\n",
    "from pyspark.sql import SparkSession\n",
    "from pyspark.sql.functions import *\n",
    "from pyspark.sql.types import *\n",
    "\n",
    "spark = (\n",
    "    SparkSession\n",
    "    .builder\n",
    "    .appName(\"Data Engineer Training Course\")\n",
    "    .config(\"spark.sql.session.timeZone\", \"Asia/Seoul\")\n",
    "    .getOrCreate()\n",
    ")\n",
    "\n",
    "# 노트북에서 테이블 형태로 데이터 프레임 출력을 위한 설정을 합니다\n",
    "from IPython.display import display, display_pretty, clear_output, JSON\n",
    "spark.conf.set(\"spark.sql.repl.eagerEval.enabled\", True) # display enabled\n",
    "spark.conf.set(\"spark.sql.repl.eagerEval.truncate\", 100) # display output columns size\n",
    "spark"
   ]
  },
  {
   "cell_type": "markdown",
   "metadata": {},
   "source": [
    "### 5-1-2. 수집된 테이블을 데이터프레임으로 읽고, 스키마 및 데이터 출력하기"
   ]
  },
  {
   "cell_type": "code",
   "execution_count": 3,
   "metadata": {},
   "outputs": [
    {
     "name": "stdout",
     "output_type": "stream",
     "text": [
      "root\n",
      " |-- u_id: integer (nullable = true)\n",
      " |-- u_name: string (nullable = true)\n",
      " |-- u_gender: string (nullable = true)\n",
      " |-- u_signup: integer (nullable = true)\n",
      "\n",
      "+----+----------+--------+--------+\n",
      "|u_id|u_name    |u_gender|u_signup|\n",
      "+----+----------+--------+--------+\n",
      "|1   |정휘센    |남      |20201025|\n",
      "|2   |김싸이언  |남      |20201025|\n",
      "|3   |박트롬    |여      |20201025|\n",
      "|4   |청소기    |남      |20201025|\n",
      "|5   |유코드제로|여      |20201025|\n",
      "+----+----------+--------+--------+\n",
      "\n"
     ]
    },
    {
     "data": {
      "text/html": [
       "<table border='1'>\n",
       "<tr><th>u_id</th><th>u_name</th><th>u_gender</th><th>u_signup</th></tr>\n",
       "<tr><td>1</td><td>정휘센</td><td>남</td><td>20201025</td></tr>\n",
       "<tr><td>2</td><td>김싸이언</td><td>남</td><td>20201025</td></tr>\n",
       "<tr><td>3</td><td>박트롬</td><td>여</td><td>20201025</td></tr>\n",
       "<tr><td>4</td><td>청소기</td><td>남</td><td>20201025</td></tr>\n",
       "<tr><td>5</td><td>유코드제로</td><td>여</td><td>20201025</td></tr>\n",
       "</table>\n"
      ],
      "text/plain": [
       "+----+----------+--------+--------+\n",
       "|u_id|    u_name|u_gender|u_signup|\n",
       "+----+----------+--------+--------+\n",
       "|   1|    정휘센|      남|20201025|\n",
       "|   2|  김싸이언|      남|20201025|\n",
       "|   3|    박트롬|      여|20201025|\n",
       "|   4|    청소기|      남|20201025|\n",
       "|   5|유코드제로|      여|20201025|\n",
       "+----+----------+--------+--------+"
      ]
     },
     "metadata": {},
     "output_type": "display_data"
    },
    {
     "name": "stdout",
     "output_type": "stream",
     "text": [
      "root\n",
      " |-- p_time: string (nullable = true)\n",
      " |-- p_uid: integer (nullable = true)\n",
      " |-- p_id: integer (nullable = true)\n",
      " |-- p_name: string (nullable = true)\n",
      " |-- p_amount: integer (nullable = true)\n",
      "\n"
     ]
    },
    {
     "data": {
      "text/html": [
       "<table border='1'>\n",
       "<tr><th>p_time</th><th>p_uid</th><th>p_id</th><th>p_name</th><th>p_amount</th></tr>\n",
       "<tr><td>1603571550</td><td>1</td><td>2000</td><td>LG DIOS</td><td>2000000</td></tr>\n",
       "<tr><td>1603614755</td><td>1</td><td>2000</td><td>LG Gram</td><td>1800000</td></tr>\n",
       "<tr><td>1603593500</td><td>2</td><td>2001</td><td>LG Cyon</td><td>1400000</td></tr>\n",
       "<tr><td>1603572155</td><td>3</td><td>2002</td><td>LG TV</td><td>1000000</td></tr>\n",
       "<tr><td>1603585955</td><td>5</td><td>2004</td><td>LG Gram</td><td>3500000</td></tr>\n",
       "<tr><td>1603586155</td><td>5</td><td>2004</td><td>LG TV</td><td>2500000</td></tr>\n",
       "</table>\n"
      ],
      "text/plain": [
       "+----------+-----+----+-------+--------+\n",
       "|    p_time|p_uid|p_id| p_name|p_amount|\n",
       "+----------+-----+----+-------+--------+\n",
       "|1603571550|    1|2000|LG DIOS| 2000000|\n",
       "|1603614755|    1|2000|LG Gram| 1800000|\n",
       "|1603593500|    2|2001|LG Cyon| 1400000|\n",
       "|1603572155|    3|2002|  LG TV| 1000000|\n",
       "|1603585955|    5|2004|LG Gram| 3500000|\n",
       "|1603586155|    5|2004|  LG TV| 2500000|\n",
       "+----------+-----+----+-------+--------+"
      ]
     },
     "metadata": {},
     "output_type": "display_data"
    },
    {
     "name": "stdout",
     "output_type": "stream",
     "text": [
      "root\n",
      " |-- a_id: string (nullable = true)\n",
      " |-- a_tag: string (nullable = true)\n",
      " |-- a_time: long (nullable = true)\n",
      " |-- a_timestamp: string (nullable = true)\n",
      " |-- a_uid: long (nullable = true)\n",
      "\n"
     ]
    },
    {
     "data": {
      "text/html": [
       "<table border='1'>\n",
       "<tr><th>a_id</th><th>a_tag</th><th>a_time</th><th>a_timestamp</th><th>a_uid</th></tr>\n",
       "<tr><td>logout</td><td>access</td><td>1603567200</td><td>2020-10-25 04:20:00.000</td><td>1</td></tr>\n",
       "<tr><td>logout</td><td>access</td><td>1603570200</td><td>2020-10-25 05:10:00.000</td><td>2</td></tr>\n",
       "<tr><td>logout</td><td>access</td><td>1603579200</td><td>2020-10-25 07:40:00.000</td><td>3</td></tr>\n",
       "<tr><td>logout</td><td>access</td><td>1603584200</td><td>2020-10-25 09:03:20.000</td><td>4</td></tr>\n",
       "<tr><td>logout</td><td>access</td><td>1603589500</td><td>2020-10-25 10:31:40.000</td><td>5</td></tr>\n",
       "<tr><td>login</td><td>access</td><td>1603565200</td><td>2020-10-25 03:46:40.000</td><td>1</td></tr>\n",
       "<tr><td>login</td><td>access</td><td>1603569200</td><td>2020-10-25 04:53:20.000</td><td>2</td></tr>\n",
       "<tr><td>login</td><td>access</td><td>1603573200</td><td>2020-10-25 06:00:00.000</td><td>2</td></tr>\n",
       "<tr><td>login</td><td>access</td><td>1603577200</td><td>2020-10-25 07:06:40.000</td><td>3</td></tr>\n",
       "<tr><td>login</td><td>access</td><td>1603580200</td><td>2020-10-25 07:56:40.000</td><td>4</td></tr>\n",
       "<tr><td>login</td><td>access</td><td>1603584500</td><td>2020-10-25 09:08:20.000</td><td>4</td></tr>\n",
       "<tr><td>login</td><td>access</td><td>1603586500</td><td>2020-10-25 09:41:40.000</td><td>5</td></tr>\n",
       "</table>\n"
      ],
      "text/plain": [
       "+------+------+----------+-----------------------+-----+\n",
       "|  a_id| a_tag|    a_time|            a_timestamp|a_uid|\n",
       "+------+------+----------+-----------------------+-----+\n",
       "|logout|access|1603567200|2020-10-25 04:20:00.000|    1|\n",
       "|logout|access|1603570200|2020-10-25 05:10:00.000|    2|\n",
       "|logout|access|1603579200|2020-10-25 07:40:00.000|    3|\n",
       "|logout|access|1603584200|2020-10-25 09:03:20.000|    4|\n",
       "|logout|access|1603589500|2020-10-25 10:31:40.000|    5|\n",
       "| login|access|1603565200|2020-10-25 03:46:40.000|    1|\n",
       "| login|access|1603569200|2020-10-25 04:53:20.000|    2|\n",
       "| login|access|1603573200|2020-10-25 06:00:00.000|    2|\n",
       "| login|access|1603577200|2020-10-25 07:06:40.000|    3|\n",
       "| login|access|1603580200|2020-10-25 07:56:40.000|    4|\n",
       "| login|access|1603584500|2020-10-25 09:08:20.000|    4|\n",
       "| login|access|1603586500|2020-10-25 09:41:40.000|    5|\n",
       "+------+------+----------+-----------------------+-----+"
      ]
     },
     "metadata": {},
     "output_type": "display_data"
    }
   ],
   "source": [
    "# 여기에 실습 코드를 작성하고 실행하세요 (Shift+Enter)\n",
    "user25 = spark.read.parquet(\"user/20201025\")\n",
    "user25.printSchema()\n",
    "user25.show(truncate=False)\n",
    "display(user25)\n",
    "\n",
    "purchase25 = spark.read.parquet(\"purchase/20201025\")\n",
    "purchase25.createOrReplaceTempView(\"purchase25\")\n",
    "purchase25.printSchema()\n",
    "display(purchase25)\n",
    "\n",
    "accesslog = spark.read.option(\"inferSchema\", \"true\").json(\"access/20201025\")\n",
    "accesslog.createOrReplaceTempView(\"accesslog\")\n",
    "access25 = spark.sql(\"select a_id, a_tag, a_time, a_timestamp, a_uid from accesslog\")\n",
    "access25.createOrReplaceTempView(\"access25\")\n",
    "access25.printSchema()\n",
    "display(access25)"
   ]
  },
  {
   "cell_type": "markdown",
   "metadata": {},
   "source": [
    "## 5-2. 수집된 고객, 매출 및 접속 임시 테이블 생성\n",
    "### 5-2-1. 데이터프레임을 이용하여 임시테이블 생성하기"
   ]
  },
  {
   "cell_type": "code",
   "execution_count": 4,
   "metadata": {},
   "outputs": [
    {
     "data": {
      "text/html": [
       "<table border='1'>\n",
       "<tr><th>database</th><th>tableName</th><th>isTemporary</th></tr>\n",
       "<tr><td></td><td>access25</td><td>true</td></tr>\n",
       "<tr><td></td><td>purchase25</td><td>true</td></tr>\n",
       "<tr><td></td><td>user25</td><td>true</td></tr>\n",
       "</table>\n"
      ],
      "text/plain": [
       "+--------+----------+-----------+\n",
       "|database| tableName|isTemporary|\n",
       "+--------+----------+-----------+\n",
       "|        |  access25|       true|\n",
       "|        |purchase25|       true|\n",
       "|        |    user25|       true|\n",
       "+--------+----------+-----------+"
      ]
     },
     "execution_count": 4,
     "metadata": {},
     "output_type": "execute_result"
    }
   ],
   "source": [
    "# 여기에 실습 코드를 작성하고 실행하세요 (Shift+Enter)\n",
    "user25.createOrReplaceTempView(\"user25\")\n",
    "purchase25.createOrReplaceTempView(\"purchase25\")\n",
    "access25.createOrReplaceTempView(\"access25\")\n",
    "spark.sql(\"show tables '*25'\")"
   ]
  },
  {
   "cell_type": "markdown",
   "metadata": {},
   "source": [
    "## 5-3. SparkSQL을 이용하여 테이블 별 데이터프레임 생성하기\n",
    "### 5-3-1. 아래에 비어있는 조건을 채워서 올바른 코드를 작성하세요"
   ]
  },
  {
   "cell_type": "code",
   "execution_count": 5,
   "metadata": {},
   "outputs": [
    {
     "data": {
      "text/html": [
       "<table border='1'>\n",
       "<tr><th>u_id</th><th>u_name</th><th>u_gender</th></tr>\n",
       "<tr><td>1</td><td>정휘센</td><td>남</td></tr>\n",
       "<tr><td>2</td><td>김싸이언</td><td>남</td></tr>\n",
       "<tr><td>3</td><td>박트롬</td><td>여</td></tr>\n",
       "<tr><td>4</td><td>청소기</td><td>남</td></tr>\n",
       "<tr><td>5</td><td>유코드제로</td><td>여</td></tr>\n",
       "</table>\n"
      ],
      "text/plain": [
       "+----+----------+--------+\n",
       "|u_id|    u_name|u_gender|\n",
       "+----+----------+--------+\n",
       "|   1|    정휘센|      남|\n",
       "|   2|  김싸이언|      남|\n",
       "|   3|    박트롬|      여|\n",
       "|   4|    청소기|      남|\n",
       "|   5|유코드제로|      여|\n",
       "+----+----------+--------+"
      ]
     },
     "metadata": {},
     "output_type": "display_data"
    },
    {
     "data": {
      "text/html": [
       "<table border='1'>\n",
       "<tr><th>p_time</th><th>p_uid</th><th>p_id</th><th>p_name</th><th>p_amount</th></tr>\n",
       "<tr><td>2020-10-25 05:32:30</td><td>1</td><td>2000</td><td>LG DIOS</td><td>2000000</td></tr>\n",
       "<tr><td>2020-10-25 17:32:35</td><td>1</td><td>2000</td><td>LG Gram</td><td>1800000</td></tr>\n",
       "<tr><td>2020-10-25 11:38:20</td><td>2</td><td>2001</td><td>LG Cyon</td><td>1400000</td></tr>\n",
       "<tr><td>2020-10-25 05:42:35</td><td>3</td><td>2002</td><td>LG TV</td><td>1000000</td></tr>\n",
       "<tr><td>2020-10-25 09:32:35</td><td>5</td><td>2004</td><td>LG Gram</td><td>3500000</td></tr>\n",
       "<tr><td>2020-10-25 09:35:55</td><td>5</td><td>2004</td><td>LG TV</td><td>2500000</td></tr>\n",
       "</table>\n"
      ],
      "text/plain": [
       "+-------------------+-----+----+-------+--------+\n",
       "|             p_time|p_uid|p_id| p_name|p_amount|\n",
       "+-------------------+-----+----+-------+--------+\n",
       "|2020-10-25 05:32:30|    1|2000|LG DIOS| 2000000|\n",
       "|2020-10-25 17:32:35|    1|2000|LG Gram| 1800000|\n",
       "|2020-10-25 11:38:20|    2|2001|LG Cyon| 1400000|\n",
       "|2020-10-25 05:42:35|    3|2002|  LG TV| 1000000|\n",
       "|2020-10-25 09:32:35|    5|2004|LG Gram| 3500000|\n",
       "|2020-10-25 09:35:55|    5|2004|  LG TV| 2500000|\n",
       "+-------------------+-----+----+-------+--------+"
      ]
     },
     "metadata": {},
     "output_type": "display_data"
    },
    {
     "data": {
      "text/html": [
       "<table border='1'>\n",
       "<tr><th>a_id</th><th>a_tag</th><th>a_timestamp</th><th>a_uid</th></tr>\n",
       "<tr><td>logout</td><td>access</td><td>2020-10-25 04:20:00.000</td><td>1</td></tr>\n",
       "<tr><td>logout</td><td>access</td><td>2020-10-25 05:10:00.000</td><td>2</td></tr>\n",
       "<tr><td>logout</td><td>access</td><td>2020-10-25 07:40:00.000</td><td>3</td></tr>\n",
       "<tr><td>logout</td><td>access</td><td>2020-10-25 09:03:20.000</td><td>4</td></tr>\n",
       "<tr><td>logout</td><td>access</td><td>2020-10-25 10:31:40.000</td><td>5</td></tr>\n",
       "<tr><td>login</td><td>access</td><td>2020-10-25 03:46:40.000</td><td>1</td></tr>\n",
       "<tr><td>login</td><td>access</td><td>2020-10-25 04:53:20.000</td><td>2</td></tr>\n",
       "<tr><td>login</td><td>access</td><td>2020-10-25 06:00:00.000</td><td>2</td></tr>\n",
       "<tr><td>login</td><td>access</td><td>2020-10-25 07:06:40.000</td><td>3</td></tr>\n",
       "<tr><td>login</td><td>access</td><td>2020-10-25 07:56:40.000</td><td>4</td></tr>\n",
       "<tr><td>login</td><td>access</td><td>2020-10-25 09:08:20.000</td><td>4</td></tr>\n",
       "<tr><td>login</td><td>access</td><td>2020-10-25 09:41:40.000</td><td>5</td></tr>\n",
       "</table>\n"
      ],
      "text/plain": [
       "+------+------+-----------------------+-----+\n",
       "|  a_id| a_tag|            a_timestamp|a_uid|\n",
       "+------+------+-----------------------+-----+\n",
       "|logout|access|2020-10-25 04:20:00.000|    1|\n",
       "|logout|access|2020-10-25 05:10:00.000|    2|\n",
       "|logout|access|2020-10-25 07:40:00.000|    3|\n",
       "|logout|access|2020-10-25 09:03:20.000|    4|\n",
       "|logout|access|2020-10-25 10:31:40.000|    5|\n",
       "| login|access|2020-10-25 03:46:40.000|    1|\n",
       "| login|access|2020-10-25 04:53:20.000|    2|\n",
       "| login|access|2020-10-25 06:00:00.000|    2|\n",
       "| login|access|2020-10-25 07:06:40.000|    3|\n",
       "| login|access|2020-10-25 07:56:40.000|    4|\n",
       "| login|access|2020-10-25 09:08:20.000|    4|\n",
       "| login|access|2020-10-25 09:41:40.000|    5|\n",
       "+------+------+-----------------------+-----+"
      ]
     },
     "metadata": {},
     "output_type": "display_data"
    },
    {
     "data": {
      "text/html": [
       "<table border='1'>\n",
       "<tr><th>database</th><th>tableName</th><th>isTemporary</th></tr>\n",
       "<tr><td></td><td>access</td><td>true</td></tr>\n",
       "<tr><td></td><td>access25</td><td>true</td></tr>\n",
       "<tr><td></td><td>accesslog</td><td>true</td></tr>\n",
       "<tr><td></td><td>purchase</td><td>true</td></tr>\n",
       "<tr><td></td><td>purchase25</td><td>true</td></tr>\n",
       "<tr><td></td><td>user</td><td>true</td></tr>\n",
       "<tr><td></td><td>user25</td><td>true</td></tr>\n",
       "</table>\n"
      ],
      "text/plain": [
       "+--------+----------+-----------+\n",
       "|database| tableName|isTemporary|\n",
       "+--------+----------+-----------+\n",
       "|        |    access|       true|\n",
       "|        |  access25|       true|\n",
       "|        | accesslog|       true|\n",
       "|        |  purchase|       true|\n",
       "|        |purchase25|       true|\n",
       "|        |      user|       true|\n",
       "|        |    user25|       true|\n",
       "+--------+----------+-----------+"
      ]
     },
     "execution_count": 5,
     "metadata": {},
     "output_type": "execute_result"
    }
   ],
   "source": [
    "# 여기에 실습 코드를 작성하고 실행하세요 (Shift+Enter)\n",
    "u_signup_condition = \"u_signup >= '20201025' and u_signup < '20201026'\"\n",
    "user = spark.sql(\"select u_id, u_name, u_gender from user25\").where(u_signup_condition)\n",
    "user.createOrReplaceTempView(\"user\")\n",
    "display(user)\n",
    "\n",
    "p_time_condition = \"p_time >= '2020-10-25 00:00:00' and p_time < '2020-10-26 00:00:00'\"\n",
    "purchase = spark.sql(\"select from_unixtime(p_time) as p_time, p_uid, p_id, p_name, p_amount from purchase25\").where(p_time_condition)\n",
    "purchase.createOrReplaceTempView(\"purchase\")\n",
    "display(purchase)\n",
    "\n",
    "access = spark.sql(\"select a_id, a_tag, a_timestamp, a_uid from access25\")\n",
    "access.createOrReplaceTempView(\"access\")\n",
    "display(access)\n",
    "\n",
    "spark.sql(\"show tables\")"
   ]
  },
  {
   "cell_type": "markdown",
   "metadata": {},
   "source": [
    "## 5-4. 생성된 테이블을 SQL 문을 이용하여 탐색하기\n",
    "### 5-4-1. 한 쪽의 성별('남' 혹은 '여')을 가진 목록을 출력하세요\n"
   ]
  },
  {
   "cell_type": "code",
   "execution_count": 6,
   "metadata": {},
   "outputs": [
    {
     "data": {
      "text/html": [
       "<table border='1'>\n",
       "<tr><th>u_id</th><th>u_name</th><th>u_gender</th></tr>\n",
       "<tr><td>1</td><td>정휘센</td><td>남</td></tr>\n",
       "<tr><td>2</td><td>김싸이언</td><td>남</td></tr>\n",
       "<tr><td>4</td><td>청소기</td><td>남</td></tr>\n",
       "</table>\n"
      ],
      "text/plain": [
       "+----+--------+--------+\n",
       "|u_id|  u_name|u_gender|\n",
       "+----+--------+--------+\n",
       "|   1|  정휘센|      남|\n",
       "|   2|김싸이언|      남|\n",
       "|   4|  청소기|      남|\n",
       "+----+--------+--------+"
      ]
     },
     "execution_count": 6,
     "metadata": {},
     "output_type": "execute_result"
    }
   ],
   "source": [
    "# 여기에 실습 코드를 작성하고 실행하세요 (Shift+Enter)\n",
    "spark.sql(\"describe user\")\n",
    "spark.sql(\"select * from user\")\n",
    "whereCondition = \"u_gender = '남'\"\n",
    "spark.sql(\"select * from user\").where(whereCondition)"
   ]
  },
  {
   "cell_type": "markdown",
   "metadata": {},
   "source": [
    "### 5-4-2. 상품금액이 200만원을 초과하는 매출 목록을 출력하세요"
   ]
  },
  {
   "cell_type": "code",
   "execution_count": 7,
   "metadata": {},
   "outputs": [
    {
     "data": {
      "text/html": [
       "<table border='1'>\n",
       "<tr><th>p_time</th><th>p_uid</th><th>p_id</th><th>p_name</th><th>p_amount</th></tr>\n",
       "<tr><td>2020-10-25 09:32:35</td><td>5</td><td>2004</td><td>LG Gram</td><td>3500000</td></tr>\n",
       "<tr><td>2020-10-25 09:35:55</td><td>5</td><td>2004</td><td>LG TV</td><td>2500000</td></tr>\n",
       "</table>\n"
      ],
      "text/plain": [
       "+-------------------+-----+----+-------+--------+\n",
       "|             p_time|p_uid|p_id| p_name|p_amount|\n",
       "+-------------------+-----+----+-------+--------+\n",
       "|2020-10-25 09:32:35|    5|2004|LG Gram| 3500000|\n",
       "|2020-10-25 09:35:55|    5|2004|  LG TV| 2500000|\n",
       "+-------------------+-----+----+-------+--------+"
      ]
     },
     "execution_count": 7,
     "metadata": {},
     "output_type": "execute_result"
    }
   ],
   "source": [
    "# 여기에 실습 코드를 작성하고 실행하세요 (Shift+Enter)\n",
    "spark.sql(\"describe purchase\")\n",
    "spark.sql(\"select * from purchase\")\n",
    "selectClause = \"select * from purchase where p_amount > 2000000\"\n",
    "spark.sql(selectClause)"
   ]
  },
  {
   "cell_type": "markdown",
   "metadata": {},
   "source": [
    "### 5-4-3. GroupBy 구문을 이용하여 로그인, 로그아웃 횟수를 출력하세요\n"
   ]
  },
  {
   "cell_type": "code",
   "execution_count": 8,
   "metadata": {},
   "outputs": [
    {
     "data": {
      "text/html": [
       "<table border='1'>\n",
       "<tr><th>a_id</th><th>count(a_id)</th></tr>\n",
       "<tr><td>logout</td><td>5</td></tr>\n",
       "<tr><td>login</td><td>7</td></tr>\n",
       "</table>\n"
      ],
      "text/plain": [
       "+------+-----------+\n",
       "|  a_id|count(a_id)|\n",
       "+------+-----------+\n",
       "|logout|          5|\n",
       "| login|          7|\n",
       "+------+-----------+"
      ]
     },
     "execution_count": 8,
     "metadata": {},
     "output_type": "execute_result"
    }
   ],
   "source": [
    "# 여기에 실습 코드를 작성하고 실행하세요 (Shift+Enter)\n",
    "spark.sql(\"describe access\")\n",
    "spark.sql(\"select * from access\")\n",
    "groupByClause=\"select a_id, count(a_id) from access group by a_id\"\n",
    "spark.sql(groupByClause)"
   ]
  },
  {
   "cell_type": "markdown",
   "metadata": {},
   "source": [
    "# 6. 기본 지표 생성\n",
    "## 6-1. DAU (Daily Activer User) 지표를 생성하세요\n"
   ]
  },
  {
   "cell_type": "code",
   "execution_count": 9,
   "metadata": {},
   "outputs": [
    {
     "data": {
      "text/html": [
       "<table border='1'>\n",
       "<tr><th>a_id</th><th>a_tag</th><th>a_timestamp</th><th>a_uid</th></tr>\n",
       "<tr><td>logout</td><td>access</td><td>2020-10-25 04:20:00.000</td><td>1</td></tr>\n",
       "<tr><td>logout</td><td>access</td><td>2020-10-25 05:10:00.000</td><td>2</td></tr>\n",
       "<tr><td>logout</td><td>access</td><td>2020-10-25 07:40:00.000</td><td>3</td></tr>\n",
       "<tr><td>logout</td><td>access</td><td>2020-10-25 09:03:20.000</td><td>4</td></tr>\n",
       "<tr><td>logout</td><td>access</td><td>2020-10-25 10:31:40.000</td><td>5</td></tr>\n",
       "<tr><td>login</td><td>access</td><td>2020-10-25 03:46:40.000</td><td>1</td></tr>\n",
       "<tr><td>login</td><td>access</td><td>2020-10-25 04:53:20.000</td><td>2</td></tr>\n",
       "<tr><td>login</td><td>access</td><td>2020-10-25 06:00:00.000</td><td>2</td></tr>\n",
       "<tr><td>login</td><td>access</td><td>2020-10-25 07:06:40.000</td><td>3</td></tr>\n",
       "<tr><td>login</td><td>access</td><td>2020-10-25 07:56:40.000</td><td>4</td></tr>\n",
       "<tr><td>login</td><td>access</td><td>2020-10-25 09:08:20.000</td><td>4</td></tr>\n",
       "<tr><td>login</td><td>access</td><td>2020-10-25 09:41:40.000</td><td>5</td></tr>\n",
       "</table>\n"
      ],
      "text/plain": [
       "DataFrame[a_id: string, a_tag: string, a_timestamp: string, a_uid: bigint]"
      ]
     },
     "metadata": {},
     "output_type": "display_data"
    },
    {
     "data": {
      "text/html": [
       "<table border='1'>\n",
       "<tr><th>DAU</th></tr>\n",
       "<tr><td>5</td></tr>\n",
       "</table>\n"
      ],
      "text/plain": [
       "+---+\n",
       "|DAU|\n",
       "+---+\n",
       "|  5|\n",
       "+---+"
      ]
     },
     "metadata": {},
     "output_type": "display_data"
    }
   ],
   "source": [
    "# 여기에 실습 코드를 작성하고 실행하세요 (Shift+Enter)\n",
    "display(access)\n",
    "distinctAccessUser = \"select count(distinct a_uid) as DAU from access\"\n",
    "dau = spark.sql(distinctAccessUser)\n",
    "display(dau)\n",
    "v_dau = dau.collect()[0][\"DAU\"]"
   ]
  },
  {
   "cell_type": "markdown",
   "metadata": {},
   "source": [
    "## 6-2. DPU (Daily Paying User) 지표를 생성하세요\n"
   ]
  },
  {
   "cell_type": "code",
   "execution_count": 10,
   "metadata": {},
   "outputs": [
    {
     "data": {
      "text/html": [
       "<table border='1'>\n",
       "<tr><th>p_time</th><th>p_uid</th><th>p_id</th><th>p_name</th><th>p_amount</th></tr>\n",
       "<tr><td>2020-10-25 05:32:30</td><td>1</td><td>2000</td><td>LG DIOS</td><td>2000000</td></tr>\n",
       "<tr><td>2020-10-25 17:32:35</td><td>1</td><td>2000</td><td>LG Gram</td><td>1800000</td></tr>\n",
       "<tr><td>2020-10-25 11:38:20</td><td>2</td><td>2001</td><td>LG Cyon</td><td>1400000</td></tr>\n",
       "<tr><td>2020-10-25 05:42:35</td><td>3</td><td>2002</td><td>LG TV</td><td>1000000</td></tr>\n",
       "<tr><td>2020-10-25 09:32:35</td><td>5</td><td>2004</td><td>LG Gram</td><td>3500000</td></tr>\n",
       "<tr><td>2020-10-25 09:35:55</td><td>5</td><td>2004</td><td>LG TV</td><td>2500000</td></tr>\n",
       "</table>\n"
      ],
      "text/plain": [
       "DataFrame[p_time: string, p_uid: int, p_id: int, p_name: string, p_amount: int]"
      ]
     },
     "metadata": {},
     "output_type": "display_data"
    },
    {
     "data": {
      "text/html": [
       "<table border='1'>\n",
       "<tr><th>PU</th></tr>\n",
       "<tr><td>4</td></tr>\n",
       "</table>\n"
      ],
      "text/plain": [
       "+---+\n",
       "| PU|\n",
       "+---+\n",
       "|  4|\n",
       "+---+"
      ]
     },
     "metadata": {},
     "output_type": "display_data"
    }
   ],
   "source": [
    "# 여기에 실습 코드를 작성하고 실행하세요 (Shift+Enter)\n",
    "\n",
    "display(purchase)\n",
    "distinctPayingUser = \"select count(distinct p_uid) as PU from purchase\"\n",
    "pu = spark.sql(distinctPayingUser)\n",
    "display(pu)\n",
    "v_pu = pu.collect()[0][\"PU\"]"
   ]
  },
  {
   "cell_type": "markdown",
   "metadata": {},
   "source": [
    "## 6-3. DR (Daily Revenue) 지표를 생성하세요\n"
   ]
  },
  {
   "cell_type": "code",
   "execution_count": 11,
   "metadata": {},
   "outputs": [
    {
     "data": {
      "text/html": [
       "<table border='1'>\n",
       "<tr><th>p_time</th><th>p_uid</th><th>p_id</th><th>p_name</th><th>p_amount</th></tr>\n",
       "<tr><td>2020-10-25 05:32:30</td><td>1</td><td>2000</td><td>LG DIOS</td><td>2000000</td></tr>\n",
       "<tr><td>2020-10-25 17:32:35</td><td>1</td><td>2000</td><td>LG Gram</td><td>1800000</td></tr>\n",
       "<tr><td>2020-10-25 11:38:20</td><td>2</td><td>2001</td><td>LG Cyon</td><td>1400000</td></tr>\n",
       "<tr><td>2020-10-25 05:42:35</td><td>3</td><td>2002</td><td>LG TV</td><td>1000000</td></tr>\n",
       "<tr><td>2020-10-25 09:32:35</td><td>5</td><td>2004</td><td>LG Gram</td><td>3500000</td></tr>\n",
       "<tr><td>2020-10-25 09:35:55</td><td>5</td><td>2004</td><td>LG TV</td><td>2500000</td></tr>\n",
       "</table>\n"
      ],
      "text/plain": [
       "DataFrame[p_time: string, p_uid: int, p_id: int, p_name: string, p_amount: int]"
      ]
     },
     "metadata": {},
     "output_type": "display_data"
    },
    {
     "data": {
      "text/html": [
       "<table border='1'>\n",
       "<tr><th>DR</th></tr>\n",
       "<tr><td>12200000</td></tr>\n",
       "</table>\n"
      ],
      "text/plain": [
       "+--------+\n",
       "|      DR|\n",
       "+--------+\n",
       "|12200000|\n",
       "+--------+"
      ]
     },
     "metadata": {},
     "output_type": "display_data"
    }
   ],
   "source": [
    "# 여기에 실습 코드를 작성하고 실행하세요 (Shift+Enter)\n",
    "display(purchase)\n",
    "sumOfDailyRevenue = \"select sum(p_amount) as DR from purchase\"\n",
    "dr = spark.sql(sumOfDailyRevenue)\n",
    "display(dr)\n",
    "v_dr = dr.collect()[0][\"DR\"]"
   ]
  },
  {
   "cell_type": "markdown",
   "metadata": {},
   "source": [
    "## 6-4. ARPU (Average Revenue Per User) 지표를 생성하세요\n"
   ]
  },
  {
   "cell_type": "code",
   "execution_count": 12,
   "metadata": {},
   "outputs": [
    {
     "name": "stdout",
     "output_type": "stream",
     "text": [
      "+------------------+\n",
      "|             ARPU |\n",
      "+------------------+\n",
      "|        2440000.0 |\n",
      "+------------------+\n"
     ]
    }
   ],
   "source": [
    "# 여기에 실습 코드를 작성하고 실행하세요 (Shift+Enter)\n",
    "# print(\"ARPU : {}\".format(<유저당 매출 금액 계산식>))\n",
    "print(\"+------------------+\")\n",
    "print(\"|             ARPU |\")\n",
    "print(\"+------------------+\")\n",
    "print(\"|        {} |\".format(v_dr / v_dau))\n",
    "print(\"+------------------+\")"
   ]
  },
  {
   "cell_type": "markdown",
   "metadata": {},
   "source": [
    "## 6-5. ARPPU (Average Revenue Per Paying User) 지표를 생성하세요\n"
   ]
  },
  {
   "cell_type": "code",
   "execution_count": 13,
   "metadata": {},
   "outputs": [
    {
     "name": "stdout",
     "output_type": "stream",
     "text": [
      "+------------------+\n",
      "|            ARPPU |\n",
      "+------------------+\n",
      "|        3050000.0 |\n",
      "+------------------+\n"
     ]
    }
   ],
   "source": [
    "# 여기에 실습 코드를 작성하고 실행하세요 (Shift+Enter)\n",
    "print(\"+------------------+\")\n",
    "print(\"|            ARPPU |\")\n",
    "print(\"+------------------+\")\n",
    "print(\"|        {} |\".format(v_dr / v_pu))\n",
    "print(\"+------------------+\")"
   ]
  },
  {
   "cell_type": "markdown",
   "metadata": {},
   "source": [
    "# 7. 고급 지표 생성\n",
    "## 7-1. 디멘젼 테이블을 설계 합니다\n",
    "## 7-2. 오픈 첫 날 접속한 모든 고객 및 접속 횟수를 가진 데이터프레임을 생성합니다\n"
   ]
  },
  {
   "cell_type": "code",
   "execution_count": 14,
   "metadata": {},
   "outputs": [
    {
     "name": "stdout",
     "output_type": "stream",
     "text": [
      "root\n",
      " |-- a_id: string (nullable = true)\n",
      " |-- a_tag: string (nullable = true)\n",
      " |-- a_timestamp: string (nullable = true)\n",
      " |-- a_uid: long (nullable = true)\n",
      "\n"
     ]
    },
    {
     "data": {
      "text/html": [
       "<table border='1'>\n",
       "<tr><th>a_uid</th><th>a_count</th></tr>\n",
       "<tr><td>5</td><td>1</td></tr>\n",
       "<tr><td>1</td><td>1</td></tr>\n",
       "<tr><td>3</td><td>1</td></tr>\n",
       "<tr><td>2</td><td>2</td></tr>\n",
       "<tr><td>4</td><td>2</td></tr>\n",
       "</table>\n"
      ],
      "text/plain": [
       "+-----+-------+\n",
       "|a_uid|a_count|\n",
       "+-----+-------+\n",
       "|    5|      1|\n",
       "|    1|      1|\n",
       "|    3|      1|\n",
       "|    2|      2|\n",
       "|    4|      2|\n",
       "+-----+-------+"
      ]
     },
     "metadata": {},
     "output_type": "display_data"
    }
   ],
   "source": [
    "# 여기에 실습 코드를 작성하고 실행하세요 (Shift+Enter)\n",
    "access.printSchema()\n",
    "countOfAccess = \"select a_uid, count(a_uid) as a_count from access where a_id = 'login' group by a_uid\"\n",
    "accs = spark.sql(countOfAccess)\n",
    "display(accs)"
   ]
  },
  {
   "cell_type": "markdown",
   "metadata": {},
   "source": [
    "## 7-3. 일 별 이용자 별 총 매출 금액과, 구매 횟수를 가지는 데이터프레임을 생성합니다\n"
   ]
  },
  {
   "cell_type": "code",
   "execution_count": 15,
   "metadata": {},
   "outputs": [
    {
     "name": "stdout",
     "output_type": "stream",
     "text": [
      "root\n",
      " |-- p_time: string (nullable = true)\n",
      " |-- p_uid: integer (nullable = true)\n",
      " |-- p_id: integer (nullable = true)\n",
      " |-- p_name: string (nullable = true)\n",
      " |-- p_amount: integer (nullable = true)\n",
      "\n"
     ]
    },
    {
     "data": {
      "text/html": [
       "<table border='1'>\n",
       "<tr><th>p_uid</th><th>p_amount</th><th>p_count</th></tr>\n",
       "<tr><td>1</td><td>3800000</td><td>2</td></tr>\n",
       "<tr><td>3</td><td>1000000</td><td>1</td></tr>\n",
       "<tr><td>5</td><td>6000000</td><td>2</td></tr>\n",
       "<tr><td>2</td><td>1400000</td><td>1</td></tr>\n",
       "</table>\n"
      ],
      "text/plain": [
       "+-----+--------+-------+\n",
       "|p_uid|p_amount|p_count|\n",
       "+-----+--------+-------+\n",
       "|    1| 3800000|      2|\n",
       "|    3| 1000000|      1|\n",
       "|    5| 6000000|      2|\n",
       "|    2| 1400000|      1|\n",
       "+-----+--------+-------+"
      ]
     },
     "metadata": {},
     "output_type": "display_data"
    }
   ],
   "source": [
    "# 여기에 실습 코드를 작성하고 실행하세요 (Shift+Enter)\n",
    "purchase.printSchema()\n",
    "sumOfCountAndAmount = \"select p_uid, sum(p_amount) as p_amount, count(p_uid) as p_count from purchase group by p_uid\"\n",
    "amts = spark.sql(sumOfCountAndAmount)\n",
    "display(amts)"
   ]
  },
  {
   "cell_type": "markdown",
   "metadata": {},
   "source": [
    "## 7-4. 이용자 정보와 구매 정보와 조인합니다\n"
   ]
  },
  {
   "cell_type": "code",
   "execution_count": 16,
   "metadata": {},
   "outputs": [
    {
     "name": "stdout",
     "output_type": "stream",
     "text": [
      "root\n",
      " |-- a_uid: long (nullable = true)\n",
      " |-- a_count: long (nullable = false)\n",
      "\n",
      "root\n",
      " |-- p_uid: integer (nullable = true)\n",
      " |-- p_amount: long (nullable = true)\n",
      " |-- p_count: long (nullable = false)\n",
      "\n",
      "root\n",
      " |-- a_uid: long (nullable = true)\n",
      " |-- a_count: long (nullable = false)\n",
      " |-- p_uid: integer (nullable = true)\n",
      " |-- p_amount: long (nullable = true)\n",
      " |-- p_count: long (nullable = true)\n",
      "\n"
     ]
    },
    {
     "data": {
      "text/html": [
       "<table border='1'>\n",
       "<tr><th>a_uid</th><th>a_count</th><th>p_uid</th><th>p_amount</th><th>p_count</th></tr>\n",
       "<tr><td>1</td><td>1</td><td>1</td><td>3800000</td><td>2</td></tr>\n",
       "<tr><td>2</td><td>2</td><td>2</td><td>1400000</td><td>1</td></tr>\n",
       "<tr><td>3</td><td>1</td><td>3</td><td>1000000</td><td>1</td></tr>\n",
       "<tr><td>4</td><td>2</td><td>null</td><td>null</td><td>null</td></tr>\n",
       "<tr><td>5</td><td>1</td><td>5</td><td>6000000</td><td>2</td></tr>\n",
       "</table>\n"
      ],
      "text/plain": [
       "+-----+-------+-----+--------+-------+\n",
       "|a_uid|a_count|p_uid|p_amount|p_count|\n",
       "+-----+-------+-----+--------+-------+\n",
       "|    1|      1|    1| 3800000|      2|\n",
       "|    2|      2|    2| 1400000|      1|\n",
       "|    3|      1|    3| 1000000|      1|\n",
       "|    4|      2| null|    null|   null|\n",
       "|    5|      1|    5| 6000000|      2|\n",
       "+-----+-------+-----+--------+-------+"
      ]
     },
     "metadata": {},
     "output_type": "display_data"
    }
   ],
   "source": [
    "# 여기에 실습 코드를 작성하고 실행하세요 (Shift+Enter)\n",
    "accs.printSchema()\n",
    "amts.printSchema()\n",
    "joinCondition = accs[\"a_uid\"] == amts[\"p_uid\"]\n",
    "joinHow = \"left_outer\"\n",
    "dim1 = accs.join(amts, joinCondition, joinHow)\n",
    "dim1.printSchema()\n",
    "display(dim1.orderBy(asc(\"a_uid\")))"
   ]
  },
  {
   "cell_type": "markdown",
   "metadata": {},
   "source": [
    "## 7-5. 고객 정보를 추가합니다\n"
   ]
  },
  {
   "cell_type": "code",
   "execution_count": 17,
   "metadata": {},
   "outputs": [
    {
     "name": "stdout",
     "output_type": "stream",
     "text": [
      "root\n",
      " |-- a_uid: long (nullable = true)\n",
      " |-- a_count: long (nullable = false)\n",
      " |-- p_uid: integer (nullable = true)\n",
      " |-- p_amount: long (nullable = true)\n",
      " |-- p_count: long (nullable = true)\n",
      "\n",
      "root\n",
      " |-- u_id: integer (nullable = true)\n",
      " |-- u_name: string (nullable = true)\n",
      " |-- u_gender: string (nullable = true)\n",
      "\n",
      "root\n",
      " |-- a_uid: long (nullable = true)\n",
      " |-- a_count: long (nullable = false)\n",
      " |-- p_uid: integer (nullable = true)\n",
      " |-- p_amount: long (nullable = true)\n",
      " |-- p_count: long (nullable = true)\n",
      " |-- u_id: integer (nullable = true)\n",
      " |-- u_name: string (nullable = true)\n",
      " |-- u_gender: string (nullable = true)\n",
      "\n"
     ]
    },
    {
     "data": {
      "text/html": [
       "<table border='1'>\n",
       "<tr><th>a_uid</th><th>a_count</th><th>p_uid</th><th>p_amount</th><th>p_count</th><th>u_id</th><th>u_name</th><th>u_gender</th></tr>\n",
       "<tr><td>1</td><td>1</td><td>1</td><td>3800000</td><td>2</td><td>1</td><td>정휘센</td><td>남</td></tr>\n",
       "<tr><td>2</td><td>2</td><td>2</td><td>1400000</td><td>1</td><td>2</td><td>김싸이언</td><td>남</td></tr>\n",
       "<tr><td>3</td><td>1</td><td>3</td><td>1000000</td><td>1</td><td>3</td><td>박트롬</td><td>여</td></tr>\n",
       "<tr><td>4</td><td>2</td><td>null</td><td>null</td><td>null</td><td>4</td><td>청소기</td><td>남</td></tr>\n",
       "<tr><td>5</td><td>1</td><td>5</td><td>6000000</td><td>2</td><td>5</td><td>유코드제로</td><td>여</td></tr>\n",
       "</table>\n"
      ],
      "text/plain": [
       "+-----+-------+-----+--------+-------+----+----------+--------+\n",
       "|a_uid|a_count|p_uid|p_amount|p_count|u_id|    u_name|u_gender|\n",
       "+-----+-------+-----+--------+-------+----+----------+--------+\n",
       "|    1|      1|    1| 3800000|      2|   1|    정휘센|      남|\n",
       "|    2|      2|    2| 1400000|      1|   2|  김싸이언|      남|\n",
       "|    3|      1|    3| 1000000|      1|   3|    박트롬|      여|\n",
       "|    4|      2| null|    null|   null|   4|    청소기|      남|\n",
       "|    5|      1|    5| 6000000|      2|   5|유코드제로|      여|\n",
       "+-----+-------+-----+--------+-------+----+----------+--------+"
      ]
     },
     "metadata": {},
     "output_type": "display_data"
    }
   ],
   "source": [
    "# 여기에 실습 코드를 작성하고 실행하세요 (Shift+Enter)\n",
    "dim1.printSchema()\n",
    "user.printSchema()\n",
    "joinCondition = dim1[\"a_uid\"] == user[\"u_id\"]\n",
    "joinHow = \"left_outer\"\n",
    "dim2 = dim1.join(user, joinCondition, joinHow)\n",
    "dim2.printSchema()\n",
    "display(dim2.orderBy(asc(\"a_uid\")))"
   ]
  },
  {
   "cell_type": "markdown",
   "metadata": {},
   "source": [
    "## 7-6. 중복되는 ID 컬럼은 제거하고, 숫자 필드에 널값은 0으로 기본값을 넣어줍니다\n"
   ]
  },
  {
   "cell_type": "code",
   "execution_count": 18,
   "metadata": {},
   "outputs": [
    {
     "name": "stdout",
     "output_type": "stream",
     "text": [
      "root\n",
      " |-- a_uid: long (nullable = true)\n",
      " |-- a_count: long (nullable = false)\n",
      " |-- p_uid: integer (nullable = true)\n",
      " |-- p_amount: long (nullable = true)\n",
      " |-- p_count: long (nullable = true)\n",
      " |-- u_id: integer (nullable = true)\n",
      " |-- u_name: string (nullable = true)\n",
      " |-- u_gender: string (nullable = true)\n",
      "\n",
      "root\n",
      " |-- a_uid: long (nullable = true)\n",
      " |-- a_count: long (nullable = false)\n",
      " |-- p_amount: long (nullable = false)\n",
      " |-- p_count: long (nullable = false)\n",
      " |-- u_name: string (nullable = true)\n",
      " |-- u_gender: string (nullable = true)\n",
      "\n"
     ]
    },
    {
     "data": {
      "text/html": [
       "<table border='1'>\n",
       "<tr><th>a_uid</th><th>a_count</th><th>p_amount</th><th>p_count</th><th>u_name</th><th>u_gender</th></tr>\n",
       "<tr><td>1</td><td>1</td><td>3800000</td><td>2</td><td>정휘센</td><td>남</td></tr>\n",
       "<tr><td>2</td><td>2</td><td>1400000</td><td>1</td><td>김싸이언</td><td>남</td></tr>\n",
       "<tr><td>3</td><td>1</td><td>1000000</td><td>1</td><td>박트롬</td><td>여</td></tr>\n",
       "<tr><td>4</td><td>2</td><td>0</td><td>0</td><td>청소기</td><td>남</td></tr>\n",
       "<tr><td>5</td><td>1</td><td>6000000</td><td>2</td><td>유코드제로</td><td>여</td></tr>\n",
       "</table>\n"
      ],
      "text/plain": [
       "+-----+-------+--------+-------+----------+--------+\n",
       "|a_uid|a_count|p_amount|p_count|    u_name|u_gender|\n",
       "+-----+-------+--------+-------+----------+--------+\n",
       "|    1|      1| 3800000|      2|    정휘센|      남|\n",
       "|    2|      2| 1400000|      1|  김싸이언|      남|\n",
       "|    3|      1| 1000000|      1|    박트롬|      여|\n",
       "|    4|      2|       0|      0|    청소기|      남|\n",
       "|    5|      1| 6000000|      2|유코드제로|      여|\n",
       "+-----+-------+--------+-------+----------+--------+"
      ]
     },
     "metadata": {},
     "output_type": "display_data"
    }
   ],
   "source": [
    "# 여기에 실습 코드를 작성하고 실행하세요 (Shift+Enter)\n",
    "dim2.printSchema()\n",
    "dim3 = dim2.drop(\"p_uid\", \"u_id\")\n",
    "fillDefaultValue = {\"p_amount\":0, \"p_count\":0}\n",
    "dim4 = dim3.na.fill(fillDefaultValue)\n",
    "dim4.printSchema()\n",
    "display(dim4.orderBy(asc(\"a_uid\")))"
   ]
  },
  {
   "cell_type": "markdown",
   "metadata": {},
   "source": [
    "## 7-7. 생성된 유저 테이블을 재사용 가능하도록 컬럼 명을 변경합니다\n"
   ]
  },
  {
   "cell_type": "code",
   "execution_count": 19,
   "metadata": {},
   "outputs": [
    {
     "name": "stdout",
     "output_type": "stream",
     "text": [
      "root\n",
      " |-- a_uid: long (nullable = true)\n",
      " |-- a_count: long (nullable = false)\n",
      " |-- p_amount: long (nullable = false)\n",
      " |-- p_count: long (nullable = false)\n",
      " |-- u_name: string (nullable = true)\n",
      " |-- u_gender: string (nullable = true)\n",
      "\n"
     ]
    },
    {
     "data": {
      "text/html": [
       "<table border='1'>\n",
       "<tr><th>d_uid</th><th>d_name</th><th>d_gender</th><th>d_acount</th><th>d_pamount</th><th>d_pcount</th></tr>\n",
       "<tr><td>1</td><td>정휘센</td><td>남</td><td>1</td><td>3800000</td><td>2</td></tr>\n",
       "<tr><td>2</td><td>김싸이언</td><td>남</td><td>2</td><td>1400000</td><td>1</td></tr>\n",
       "<tr><td>3</td><td>박트롬</td><td>여</td><td>1</td><td>1000000</td><td>1</td></tr>\n",
       "<tr><td>4</td><td>청소기</td><td>남</td><td>2</td><td>0</td><td>0</td></tr>\n",
       "<tr><td>5</td><td>유코드제로</td><td>여</td><td>1</td><td>6000000</td><td>2</td></tr>\n",
       "</table>\n"
      ],
      "text/plain": [
       "+-----+----------+--------+--------+---------+--------+\n",
       "|d_uid|    d_name|d_gender|d_acount|d_pamount|d_pcount|\n",
       "+-----+----------+--------+--------+---------+--------+\n",
       "|    1|    정휘센|      남|       1|  3800000|       2|\n",
       "|    2|  김싸이언|      남|       2|  1400000|       1|\n",
       "|    3|    박트롬|      여|       1|  1000000|       1|\n",
       "|    4|    청소기|      남|       2|        0|       0|\n",
       "|    5|유코드제로|      여|       1|  6000000|       2|\n",
       "+-----+----------+--------+--------+---------+--------+"
      ]
     },
     "metadata": {},
     "output_type": "display_data"
    }
   ],
   "source": [
    "# 여기에 실습 코드를 작성하고 실행하세요 (Shift+Enter)\n",
    "dim4.printSchema()\n",
    "dim5 = (\n",
    "    dim4\n",
    "    .withColumnRenamed(\"a_uid\", \"d_uid\")\n",
    "    .withColumnRenamed(\"a_count\", \"d_acount\")\n",
    "    .withColumnRenamed(\"p_amount\", \"d_pamount\")\n",
    "    .withColumnRenamed(\"p_count\", \"d_pcount\")\n",
    "    .withColumnRenamed(\"u_name\", \"d_name\")\n",
    "    .withColumnRenamed(\"u_gender\", \"d_gender\")\n",
    "   .drop(\"a_uid\", \"a_count\", \"p_amount\", \"p_count\", \"u_name\", \"u_gender\")\n",
    "   .select(\"d_uid\", \"d_name\", \"d_gender\", \"d_acount\", \"d_pamount\", \"d_pcount\")\n",
    ")\n",
    "display(dim5.orderBy(asc(\"d_uid\")))"
   ]
  },
  {
   "cell_type": "markdown",
   "metadata": {},
   "source": [
    "## 7-8. 최초 구매 유저 정보를 추가합니다\n"
   ]
  },
  {
   "cell_type": "code",
   "execution_count": 20,
   "metadata": {},
   "outputs": [
    {
     "name": "stdout",
     "output_type": "stream",
     "text": [
      "root\n",
      " |-- p_time: string (nullable = true)\n",
      " |-- p_uid: integer (nullable = true)\n",
      " |-- p_id: integer (nullable = true)\n",
      " |-- p_name: string (nullable = true)\n",
      " |-- p_amount: integer (nullable = true)\n",
      "\n",
      "root\n",
      " |-- d_uid: long (nullable = true)\n",
      " |-- d_name: string (nullable = true)\n",
      " |-- d_gender: string (nullable = true)\n",
      " |-- d_acount: long (nullable = false)\n",
      " |-- d_pamount: long (nullable = false)\n",
      " |-- d_pcount: long (nullable = false)\n",
      " |-- d_first_purchase: null (nullable = true)\n",
      "\n",
      "root\n",
      " |-- d_uid: long (nullable = true)\n",
      " |-- d_name: string (nullable = true)\n",
      " |-- d_gender: string (nullable = true)\n",
      " |-- d_acount: long (nullable = false)\n",
      " |-- d_pamount: long (nullable = false)\n",
      " |-- d_pcount: long (nullable = false)\n",
      " |-- d_first_purchase: string (nullable = true)\n",
      "\n"
     ]
    },
    {
     "data": {
      "text/html": [
       "<table border='1'>\n",
       "<tr><th>d_uid</th><th>d_name</th><th>d_gender</th><th>d_acount</th><th>d_pamount</th><th>d_pcount</th><th>d_first_purchase</th></tr>\n",
       "<tr><td>1</td><td>정휘센</td><td>남</td><td>1</td><td>3800000</td><td>2</td><td>2020-10-25 05:32:30</td></tr>\n",
       "<tr><td>2</td><td>김싸이언</td><td>남</td><td>2</td><td>1400000</td><td>1</td><td>2020-10-25 11:38:20</td></tr>\n",
       "<tr><td>3</td><td>박트롬</td><td>여</td><td>1</td><td>1000000</td><td>1</td><td>2020-10-25 05:42:35</td></tr>\n",
       "<tr><td>4</td><td>청소기</td><td>남</td><td>2</td><td>0</td><td>0</td><td>null</td></tr>\n",
       "<tr><td>5</td><td>유코드제로</td><td>여</td><td>1</td><td>6000000</td><td>2</td><td>2020-10-25 09:32:35</td></tr>\n",
       "</table>\n"
      ],
      "text/plain": [
       "+-----+----------+--------+--------+---------+--------+-------------------+\n",
       "|d_uid|    d_name|d_gender|d_acount|d_pamount|d_pcount|   d_first_purchase|\n",
       "+-----+----------+--------+--------+---------+--------+-------------------+\n",
       "|    1|    정휘센|      남|       1|  3800000|       2|2020-10-25 05:32:30|\n",
       "|    2|  김싸이언|      남|       2|  1400000|       1|2020-10-25 11:38:20|\n",
       "|    3|    박트롬|      여|       1|  1000000|       1|2020-10-25 05:42:35|\n",
       "|    4|    청소기|      남|       2|        0|       0|               null|\n",
       "|    5|유코드제로|      여|       1|  6000000|       2|2020-10-25 09:32:35|\n",
       "+-----+----------+--------+--------+---------+--------+-------------------+"
      ]
     },
     "metadata": {},
     "output_type": "display_data"
    }
   ],
   "source": [
    "# 여기에 실습 코드를 작성하고 실행하세요 (Shift+Enter)\n",
    "purchase.printSchema()\n",
    "selectFirstPurchaseTime = \"select p_uid, min(p_time) as p_time from purchase group by p_uid\"\n",
    "\n",
    "first_purchase = spark.sql(selectFirstPurchaseTime)\n",
    "dim6 = dim5.withColumn(\"d_first_purchase\", lit(None))\n",
    "dim6.printSchema()\n",
    "\n",
    "exprFirstPurchase = expr(\"case when d_first_purchase is null then p_time else d_first_purchase end\")\n",
    "\n",
    "dim7 = (\n",
    "    dim6.join(first_purchase, dim5.d_uid == first_purchase.p_uid, \"left_outer\")\n",
    "    .withColumn(\"first_purchase\", exprFirstPurchase)\n",
    "    .drop(\"d_first_purchase\", \"p_uid\", \"p_time\")\n",
    "    .withColumnRenamed(\"first_purchase\", \"d_first_purchase\")\n",
    ")\n",
    "    \n",
    "dimension = dim7.orderBy(asc(\"d_uid\"))\n",
    "dimension.printSchema()\n",
    "display(dimension)"
   ]
  },
  {
   "cell_type": "markdown",
   "metadata": {},
   "source": [
    "## 7-9. 생성된 디멘젼을 저장소에 저장합니다\n"
   ]
  },
  {
   "cell_type": "code",
   "execution_count": 21,
   "metadata": {},
   "outputs": [
    {
     "name": "stdout",
     "output_type": "stream",
     "text": [
      "root\n",
      " |-- d_uid: long (nullable = true)\n",
      " |-- d_name: string (nullable = true)\n",
      " |-- d_gender: string (nullable = true)\n",
      " |-- d_acount: long (nullable = false)\n",
      " |-- d_pamount: long (nullable = false)\n",
      " |-- d_pcount: long (nullable = false)\n",
      " |-- d_first_purchase: string (nullable = true)\n",
      "\n"
     ]
    }
   ],
   "source": [
    "# 여기에 실습 코드를 작성하고 실행하세요 (Shift+Enter)\n",
    "dimension.printSchema()\n",
    "target_dir=\"dim_users/dt=20201025\"\n",
    "dimension.write.mode(\"overwrite\").parquet(target_dir)"
   ]
  },
  {
   "cell_type": "markdown",
   "metadata": {},
   "source": [
    "## 7-10. 생성된 디멘젼을 다시 읽어서 출력합니다\n"
   ]
  },
  {
   "cell_type": "code",
   "execution_count": 22,
   "metadata": {},
   "outputs": [
    {
     "name": "stdout",
     "output_type": "stream",
     "text": [
      "root\n",
      " |-- d_uid: long (nullable = true)\n",
      " |-- d_name: string (nullable = true)\n",
      " |-- d_gender: string (nullable = true)\n",
      " |-- d_acount: long (nullable = true)\n",
      " |-- d_pamount: long (nullable = true)\n",
      " |-- d_pcount: long (nullable = true)\n",
      " |-- d_first_purchase: string (nullable = true)\n",
      "\n"
     ]
    },
    {
     "data": {
      "text/html": [
       "<table border='1'>\n",
       "<tr><th>d_uid</th><th>d_name</th><th>d_gender</th><th>d_acount</th><th>d_pamount</th><th>d_pcount</th><th>d_first_purchase</th></tr>\n",
       "<tr><td>5</td><td>유코드제로</td><td>여</td><td>1</td><td>6000000</td><td>2</td><td>2020-10-25 09:32:35</td></tr>\n",
       "<tr><td>2</td><td>김싸이언</td><td>남</td><td>2</td><td>1400000</td><td>1</td><td>2020-10-25 11:38:20</td></tr>\n",
       "<tr><td>1</td><td>정휘센</td><td>남</td><td>1</td><td>3800000</td><td>2</td><td>2020-10-25 05:32:30</td></tr>\n",
       "<tr><td>3</td><td>박트롬</td><td>여</td><td>1</td><td>1000000</td><td>1</td><td>2020-10-25 05:42:35</td></tr>\n",
       "<tr><td>4</td><td>청소기</td><td>남</td><td>2</td><td>0</td><td>0</td><td>null</td></tr>\n",
       "</table>\n"
      ],
      "text/plain": [
       "+-----+----------+--------+--------+---------+--------+-------------------+\n",
       "|d_uid|    d_name|d_gender|d_acount|d_pamount|d_pcount|   d_first_purchase|\n",
       "+-----+----------+--------+--------+---------+--------+-------------------+\n",
       "|    5|유코드제로|      여|       1|  6000000|       2|2020-10-25 09:32:35|\n",
       "|    2|  김싸이언|      남|       2|  1400000|       1|2020-10-25 11:38:20|\n",
       "|    1|    정휘센|      남|       1|  3800000|       2|2020-10-25 05:32:30|\n",
       "|    3|    박트롬|      여|       1|  1000000|       1|2020-10-25 05:42:35|\n",
       "|    4|    청소기|      남|       2|        0|       0|               null|\n",
       "+-----+----------+--------+--------+---------+--------+-------------------+"
      ]
     },
     "metadata": {},
     "output_type": "display_data"
    }
   ],
   "source": [
    "# 여기에 실습 코드를 작성하고 실행하세요 (Shift+Enter)\n",
    "newDimension = spark.read.parquet(target_dir)\n",
    "newDimension.printSchema()\n",
    "display(newDimension)"
   ]
  },
  {
   "cell_type": "code",
   "execution_count": 23,
   "metadata": {},
   "outputs": [
    {
     "name": "stdout",
     "output_type": "stream",
     "text": [
      "+------------------+\n",
      "|              DAU |\n",
      "+------------------+\n",
      "|                5 |\n",
      "+------------------+\n",
      "+------------------+\n",
      "|               PU |\n",
      "+------------------+\n",
      "|                4 |\n",
      "+------------------+\n",
      "+------------------+\n",
      "|               DR |\n",
      "+------------------+\n",
      "|         12200000 |\n",
      "+------------------+\n",
      "+------------------+\n",
      "|             ARPU |\n",
      "+------------------+\n",
      "|        2440000.0 |\n",
      "+------------------+\n",
      "+------------------+\n",
      "|            ARPPU |\n",
      "+------------------+\n",
      "|        3050000.0 |\n",
      "+------------------+\n"
     ]
    }
   ],
   "source": [
    "# 최종 결과가 아래의 값과 일치하는지 확인합니다\n",
    "# DAU:5, PU:4, DR: 12200000, ARPU: 2440000.0, ARPPU: 3050000.0\n",
    "print(\"+------------------+\")\n",
    "print(\"|              DAU |\")\n",
    "print(\"+------------------+\")\n",
    "print(\"|                {} |\".format(v_dau))\n",
    "print(\"+------------------+\")\n",
    "print(\"+------------------+\")\n",
    "print(\"|               PU |\")\n",
    "print(\"+------------------+\")\n",
    "print(\"|                {} |\".format(v_pu))\n",
    "print(\"+------------------+\")\n",
    "print(\"+------------------+\")\n",
    "print(\"|               DR |\")\n",
    "print(\"+------------------+\")\n",
    "print(\"|         {} |\".format(v_dr))\n",
    "print(\"+------------------+\")\n",
    "print(\"+------------------+\")\n",
    "print(\"|             ARPU |\")\n",
    "print(\"+------------------+\")\n",
    "print(\"|        {} |\".format(v_dr / v_dau))\n",
    "print(\"+------------------+\")\n",
    "print(\"+------------------+\")\n",
    "print(\"|            ARPPU |\")\n",
    "print(\"+------------------+\")\n",
    "print(\"|        {} |\".format(v_dr / v_pu))\n",
    "print(\"+------------------+\")"
   ]
  },
  {
   "cell_type": "code",
   "execution_count": null,
   "metadata": {},
   "outputs": [],
   "source": []
  }
 ],
 "metadata": {
  "kernelspec": {
   "display_name": "Python 3 (ipykernel)",
   "language": "python",
   "name": "python3"
  },
  "language_info": {
   "codemirror_mode": {
    "name": "ipython",
    "version": 3
   },
   "file_extension": ".py",
   "mimetype": "text/x-python",
   "name": "python",
   "nbconvert_exporter": "python",
   "pygments_lexer": "ipython3",
   "version": "3.11.13"
  }
 },
 "nbformat": 4,
 "nbformat_minor": 4
}
