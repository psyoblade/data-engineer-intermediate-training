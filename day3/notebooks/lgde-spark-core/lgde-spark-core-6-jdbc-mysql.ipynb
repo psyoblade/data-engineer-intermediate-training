{
 "cells": [
  {
   "cell_type": "markdown",
   "metadata": {},
   "source": [
    "# 6교시 Spark JDBC to MySQL\n",
    "\n",
    "### 목차\n",
    "* [1. MySQL 접속 예제](#1.-MySQL-접속-예제)\n",
    "* [10. 참고자료](#10.-참고자료)\n"
   ]
  },
  {
   "cell_type": "code",
   "execution_count": 5,
   "metadata": {},
   "outputs": [
    {
     "data": {
      "text/html": [
       "\n",
       "            <div>\n",
       "                <p><b>SparkSession - in-memory</b></p>\n",
       "                \n",
       "        <div>\n",
       "            <p><b>SparkContext</b></p>\n",
       "\n",
       "            <p><a href=\"http://910ae3f67e2d:4040\">Spark UI</a></p>\n",
       "\n",
       "            <dl>\n",
       "              <dt>Version</dt>\n",
       "                <dd><code>v3.5.3</code></dd>\n",
       "              <dt>Master</dt>\n",
       "                <dd><code>local[*]</code></dd>\n",
       "              <dt>AppName</dt>\n",
       "                <dd><code>pyspark-shell</code></dd>\n",
       "            </dl>\n",
       "        </div>\n",
       "        \n",
       "            </div>\n",
       "        "
      ],
      "text/plain": [
       "<pyspark.sql.session.SparkSession at 0x7736d5094610>"
      ]
     },
     "execution_count": 5,
     "metadata": {},
     "output_type": "execute_result"
    }
   ],
   "source": [
    "from pyspark.sql import *\n",
    "from pyspark.sql.functions import *\n",
    "from pyspark.sql.types import *\n",
    "from IPython.display import display, display_pretty, clear_output, JSON\n",
    "\n",
    "spark = (\n",
    "    SparkSession\n",
    "    .builder\n",
    "    .config(\"spark.sql.session.timeZone\", \"Asia/Seoul\")\n",
    "    .getOrCreate()\n",
    ")\n",
    "\n",
    "# 노트북에서 테이블 형태로 데이터 프레임 출력을 위한 설정을 합니다\n",
    "spark.conf.set(\"spark.sql.repl.eagerEval.enabled\", True) # display enabled\n",
    "spark.conf.set(\"spark.sql.repl.eagerEval.truncate\", 100) # display output columns size\n",
    "\n",
    "# 공통 데이터 위치\n",
    "home_jovyan = \"/home/jovyan\"\n",
    "work_data = f\"{home_jovyan}/work/data\"\n",
    "work_dir=!pwd\n",
    "work_dir = work_dir[0]\n",
    "\n",
    "# 로컬 환경 최적화\n",
    "spark.conf.set(\"spark.sql.shuffle.partitions\", 5) # the number of partitions to use when shuffling data for joins or aggregations.\n",
    "spark.conf.set(\"spark.sql.streaming.forceDeleteTempCheckpointLocation\", \"true\")\n",
    "spark"
   ]
  },
  {
   "cell_type": "markdown",
   "metadata": {},
   "source": [
    "### 1. MySQL 접속 예제"
   ]
  },
  {
   "cell_type": "code",
   "execution_count": 6,
   "metadata": {},
   "outputs": [],
   "source": [
    "this_style_also_work_but = \"\"\"\n",
    "from pyspark.sql.context import SQLContext\n",
    "sc = spark.sparkContext\n",
    "sqlContext = SQLContext(sc)\n",
    "seoul_popular_trip = (\n",
    "    sqlContext.read.format(\"jdbc\")\n",
    "    .option(\"url\", \"jdbc:mysql://mysql:3306/default\")\n",
    "    .option(\"driver\", \"com.mysql.jdbc.Driver\")\n",
    "    .option(\"dbtable\", \"seoul_popular_trip\")\n",
    "    .option(\"user\", \"scott\")\n",
    "    .option(\"password\", \"tiger\")\n",
    "    .load()\n",
    ")\n",
    "\"\"\""
   ]
  },
  {
   "cell_type": "code",
   "execution_count": 8,
   "metadata": {},
   "outputs": [],
   "source": [
    "connString = \"jdbc:mysql://mysql:3306/default\"\n",
    "tableName = \"seoul_popular_trip\"\n",
    "accessInfo = {\"user\":\"scott\", \"password\":\"tiger\"}"
   ]
  },
  {
   "cell_type": "code",
   "execution_count": 9,
   "metadata": {},
   "outputs": [],
   "source": [
    "seoul_popular_trip = spark.read.jdbc(connString, tableName, properties=accessInfo)"
   ]
  },
  {
   "cell_type": "code",
   "execution_count": 10,
   "metadata": {},
   "outputs": [
    {
     "name": "stdout",
     "output_type": "stream",
     "text": [
      "root\n",
      " |-- category: integer (nullable = true)\n",
      " |-- id: integer (nullable = true)\n",
      " |-- name: string (nullable = true)\n",
      " |-- address: string (nullable = true)\n",
      " |-- naddress: string (nullable = true)\n",
      " |-- tel: string (nullable = true)\n",
      " |-- tag: string (nullable = true)\n",
      "\n"
     ]
    },
    {
     "data": {
      "text/html": [
       "<table border='1'>\n",
       "<tr><th>category</th><th>id</th><th>name</th><th>address</th><th>naddress</th><th>tel</th><th>tag</th></tr>\n",
       "<tr><td>0</td><td>281</td><td>통인시장</td><td>110-043 서울 종로구 통인동 10-3 </td><td>03036 서울 종로구 자하문로15길 18 </td><td>02-722-0911</td><td>엽전도시락,종로통인시장,통인시장닭꼬치,런닝맨,엽전시장,통인시장데이트,효자베이커리,통인시장, 1박2일,기름떡볶이</td></tr>\n",
       "<tr><td>0</td><td>345</td><td>타르틴</td><td>140-863 서울 용산구 이태원동 119-15 </td><td>04350 서울 용산구 이태원로23길 4 (이태원동) </td><td>02-3785-3400</td><td>타르틴,이태원디저트카페,파이,런닝맨,파이맛집,이태원맛집, 유재석,식신로드,타르트맛집</td></tr>\n",
       "<tr><td>0</td><td>383</td><td>해랑</td><td>135-827 서울 강남구 논현동 183 </td><td>06120 서울 강남구 강남대로118길 12 (부경빌딩) </td><td>02-544-7270</td><td>해물탕,해물음식점,해물요리,강남맛집,논현동음식점,강남,신논현맛집,해랑</td></tr>\n",
       "<tr><td>0</td><td>413</td><td>인도로 가는 길 </td><td>110-300 서울 종로구 관훈동 198-36 </td><td>03149 서울 종로구 인사동5길 20 (관훈동, 오원빌딩) </td><td>02-738-7773</td><td> 인도 요리,인도레스토랑,인도로 가는 길,광화문,할랄레스토랑,인도음식점,인사동음식점,커리음식점</td></tr>\n",
       "<tr><td>0</td><td>420</td><td>올데이 브런치 카페 B Meal(비밀)</td><td>140-893 서울 용산구 한남동 738-7 </td><td>04348 서울 용산구 이태원로55가길 35 </td><td>02-797-0715</td><td>이태원브런치,브런치음식점,올데이 브런치 카페 B Meal,카페,한남동음식점,이태원,이태원음식점,한남동카페,이태원카페</td></tr>\n",
       "<tr><td>0</td><td>428</td><td>장이오</td><td>137-857 서울 서초구 서초동 1321-9 </td><td>06619 서울 서초구 강남대로55길 24 (풍림아이원매직) </td><td>02-3473-1025</td><td>장이오,강남,한식음식점,한식전문점,강남역음식점,된장찌개,된장,서초동음식점, 간장, 고추장</td></tr>\n",
       "<tr><td>0</td><td>429</td><td>진진바라 (서울역점) </td><td>140-709 서울 용산구 동자동 12 </td><td>04323 서울 용산구 후암로 107 (게이트웨이타워) </td><td>02-777-8004</td><td>진진바라,서울역음식점,용산음식점,한식음식점,서울역,한정식,한식전문점</td></tr>\n",
       "<tr><td>0</td><td>441</td><td>울프강 스테이크 하우스</td><td>135-954 서울 강남구 청담동 89-6 </td><td>06016 서울 강남구 선릉로152길 21 (청담동, 영인빌딩) </td><td>02-556-8700</td><td>뉴욕3대스테이크,스테이크,스테이크음식점,청담동음식점,강남,레스토랑,울프강 스테이크 하우스</td></tr>\n",
       "<tr><td>0</td><td>446</td><td>난향</td><td>120-834 서울 서대문구 창천동 72-21 </td><td>03787 서울 서대문구 신촌로 67 (거촌빌딩) </td><td>02-322-6900</td><td>중화요리,중국집,난향,신촌음식점,중국 음식점,고급중식당,중식레스토랑</td></tr>\n",
       "<tr><td>0</td><td>463</td><td>논현삼계탕(명동점)</td><td>100-860 서울 중구 충무로2가 7-1 </td><td>04537 서울 중구 명동10길 41 </td><td>02-518-4602</td><td>논현삼계탕,명동음식점,삼계탕전문점,명동,백숙,보양식,삼계탕</td></tr>\n",
       "<tr><td>0</td><td>467</td><td>일 폰테</td><td>100-802 서울 중구 남대문로5가 395 </td><td>04637 서울 중구 소월로 50 (힐튼호텔) </td><td>02-317-3270</td><td>스테이크,바닷가재,이탈리안레스토랑,서울역,이태리식,일 폰테,파스타,밀레니엄서울힐튼,서울역레스토랑</td></tr>\n",
       "<tr><td>0</td><td>477</td><td>하루연가</td><td>110-126 서울 종로구 종로6가 62-2 </td><td>03124 서울 종로구 율곡로 286 (성사빌딩) </td><td>02-764-1229</td><td>제주흑돼지,청계천,DDP,돼지고기맛집,동대문맛집,하루연가,청계천맛집</td></tr>\n",
       "<tr><td>0</td><td>481</td><td>죽미인</td><td>121-807 서울 마포구 노고산동 106-83 1층</td><td>04100 서울 마포구 백범로2길 12 1층</td><td>02-719-9264</td><td>죽,신촌맛집,신촌한식,연세대,신촌,죽맛집,죽미인,신촌죽집</td></tr>\n",
       "<tr><td>0</td><td>493</td><td>파스텔 드 나따(안국점)</td><td>110-240 서울 종로구 안국동 175-57 </td><td>03061 서울 종로구 윤보선길 31 </td><td>02-733-2979</td><td>상속자들,이민호,파스텔드나따,에그타르트,타르트맛집,삼청동맛집,안국역</td></tr>\n",
       "<tr><td>0</td><td>512</td><td>산호</td><td>135-888 서울 강남구 신사동 525-7 </td><td>06028 서울 강남구 논현로175길 111 (신사동 만수빌딩) </td><td>02-517-0035</td><td>가로수길맛집,신사동맛집,육전,산호,신사, 한식주점,수요미식회,문어숙회,육회탕탕이</td></tr>\n",
       "<tr><td>0</td><td>542</td><td>뀌쏭82 </td><td>135-855 서울 강남구 도곡동 453-16 </td><td>06302 서울 강남구 양재천로 167 </td><td>02-529-3582</td><td>비스트로,프랑스,매봉역,프렌치레스토랑,뀌쏭82,양재천음식점,도곡동음식점,뀌숑82</td></tr>\n",
       "<tr><td>0</td><td>564</td><td>키사라</td><td>135-934 서울 강남구 역삼동 825-2 </td><td>06232 서울 강남구 강남대로 382 (메리츠타워) </td><td>02-2018-0904</td><td>강남,키사라,일식레스토랑,일식,일식음식점,스시,코스요리,역삼동일식,강남역일식</td></tr>\n",
       "<tr><td>0</td><td>953</td><td>칠량</td><td>135-953 서울 강남구 청담동 68-5 </td><td>06072 서울 강남구 영동대로 731 (신영빌딩) </td><td>02-516-7095</td><td>한정식,청담역맛집,국악공연,청담,칠량,한식레스토랑,한식,SYC밀레니엄타워</td></tr>\n",
       "<tr><td>0</td><td>957</td><td>캐슬프라하</td><td>121-840 서울 마포구 서교동 395-19 </td><td>04043 서울 마포구 독막로7길 59 (캐슬 프라하) </td><td>02-337-6644</td><td>홍대술집,이색음식점,홍대입구,체코 요리,합정,홍대펍,분위기좋은음식점,캐슬프라하</td></tr>\n",
       "<tr><td>0</td><td>979</td><td>수연산방</td><td>136-823 서울 성북구 성북동 248 </td><td>02837 서울 성북구 성북로26길 8 (성북동, 상허 이태준 가옥) </td><td>02-764-1736</td><td>성북동카페,찻집,전통찻집,성북동찻집,수연산방,한성대입구</td></tr>\n",
       "</table>\n",
       "only showing top 20 rows\n"
      ],
      "text/plain": [
       "+--------+---+-------------------------------+---------------------------------------+----------------------------------------------------------+------------+---------------------------------------------------------------------------------------------------------------+\n",
       "|category| id|                           name|                                address|                                                  naddress|         tel|                                                                                                            tag|\n",
       "+--------+---+-------------------------------+---------------------------------------+----------------------------------------------------------+------------+---------------------------------------------------------------------------------------------------------------+\n",
       "|       0|281|                       통인시장|       110-043 서울 종로구 통인동 10-3 |                        03036 서울 종로구 자하문로15길 18 | 02-722-0911| 엽전도시락,종로통인시장,통인시장닭꼬치,런닝맨,엽전시장,통인시장데이트,효자베이커리,통인시장, 1박2일,기름떡볶이|\n",
       "|       0|345|                         타르틴|   140-863 서울 용산구 이태원동 119-15 |              04350 서울 용산구 이태원로23길 4 (이태원동) |02-3785-3400|                            타르틴,이태원디저트카페,파이,런닝맨,파이맛집,이태원맛집, 유재석,식신로드,타르트맛집|\n",
       "|       0|383|                           해랑|        135-827 서울 강남구 논현동 183 |            06120 서울 강남구 강남대로118길 12 (부경빌딩) | 02-544-7270|                                          해물탕,해물음식점,해물요리,강남맛집,논현동음식점,강남,신논현맛집,해랑|\n",
       "|       0|413|                인도로 가는 길 |     110-300 서울 종로구 관훈동 198-36 |        03149 서울 종로구 인사동5길 20 (관훈동, 오원빌딩) | 02-738-7773|                   인도 요리,인도레스토랑,인도로 가는 길,광화문,할랄레스토랑,인도음식점,인사동음식점,커리음식점|\n",
       "|       0|420|올데이 브런치 카페 B Meal(비밀)|      140-893 서울 용산구 한남동 738-7 |                      04348 서울 용산구 이태원로55가길 35 | 02-797-0715|이태원브런치,브런치음식점,올데이 브런치 카페 B Meal,카페,한남동음식점,이태원,이태원음식점,한남동카페,이태원카페|\n",
       "|       0|428|                         장이오|     137-857 서울 서초구 서초동 1321-9 |       06619 서울 서초구 강남대로55길 24 (풍림아이원매직) |02-3473-1025|                        장이오,강남,한식음식점,한식전문점,강남역음식점,된장찌개,된장,서초동음식점, 간장, 고추장|\n",
       "|       0|429|           진진바라 (서울역점) |         140-709 서울 용산구 동자동 12 |            04323 서울 용산구 후암로 107 (게이트웨이타워) | 02-777-8004|                                           진진바라,서울역음식점,용산음식점,한식음식점,서울역,한정식,한식전문점|\n",
       "|       0|441|         울프강 스테이크 하우스|       135-954 서울 강남구 청담동 89-6 |      06016 서울 강남구 선릉로152길 21 (청담동, 영인빌딩) | 02-556-8700|                      뉴욕3대스테이크,스테이크,스테이크음식점,청담동음식점,강남,레스토랑,울프강 스테이크 하우스|\n",
       "|       0|446|                           난향|    120-834 서울 서대문구 창천동 72-21 |                 03787 서울 서대문구 신촌로 67 (거촌빌딩) | 02-322-6900|                                            중화요리,중국집,난향,신촌음식점,중국 음식점,고급중식당,중식레스토랑|\n",
       "|       0|463|             논현삼계탕(명동점)|       100-860 서울 중구 충무로2가 7-1 |                              04537 서울 중구 명동10길 41 | 02-518-4602|                                                     논현삼계탕,명동음식점,삼계탕전문점,명동,백숙,보양식,삼계탕|\n",
       "|       0|467|                        일 폰테|     100-802 서울 중구 남대문로5가 395 |                     04637 서울 중구 소월로 50 (힐튼호텔) | 02-317-3270|              스테이크,바닷가재,이탈리안레스토랑,서울역,이태리식,일 폰테,파스타,밀레니엄서울힐튼,서울역레스토랑|\n",
       "|       0|477|                       하루연가|      110-126 서울 종로구 종로6가 62-2 |                  03124 서울 종로구 율곡로 286 (성사빌딩) | 02-764-1229|                                              제주흑돼지,청계천,DDP,돼지고기맛집,동대문맛집,하루연가,청계천맛집|\n",
       "|       0|481|                         죽미인|121-807 서울 마포구 노고산동 106-83 1층|                        04100 서울 마포구 백범로2길 12 1층| 02-719-9264|                                                        죽,신촌맛집,신촌한식,연세대,신촌,죽맛집,죽미인,신촌죽집|\n",
       "|       0|493|         파스텔 드 나따(안국점)|     110-240 서울 종로구 안국동 175-57 |                            03061 서울 종로구 윤보선길 31 | 02-733-2979|                                           상속자들,이민호,파스텔드나따,에그타르트,타르트맛집,삼청동맛집,안국역|\n",
       "|       0|512|                           산호|      135-888 서울 강남구 신사동 525-7 |      06028 서울 강남구 논현로175길 111 (신사동 만수빌딩) | 02-517-0035|                                가로수길맛집,신사동맛집,육전,산호,신사, 한식주점,수요미식회,문어숙회,육회탕탕이|\n",
       "|       0|542|                        뀌쏭82 |     135-855 서울 강남구 도곡동 453-16 |                           06302 서울 강남구 양재천로 167 | 02-529-3582|                                  비스트로,프랑스,매봉역,프렌치레스토랑,뀌쏭82,양재천음식점,도곡동음식점,뀌숑82|\n",
       "|       0|564|                         키사라|      135-934 서울 강남구 역삼동 825-2 |              06232 서울 강남구 강남대로 382 (메리츠타워) |02-2018-0904|                                   강남,키사라,일식레스토랑,일식,일식음식점,스시,코스요리,역삼동일식,강남역일식|\n",
       "|       0|953|                           칠량|       135-953 서울 강남구 청담동 68-5 |                06072 서울 강남구 영동대로 731 (신영빌딩) | 02-516-7095|                                         한정식,청담역맛집,국악공연,청담,칠량,한식레스토랑,한식,SYC밀레니엄타워|\n",
       "|       0|957|                     캐슬프라하|     121-840 서울 마포구 서교동 395-19 |             04043 서울 마포구 독막로7길 59 (캐슬 프라하) | 02-337-6644|                                 홍대술집,이색음식점,홍대입구,체코 요리,합정,홍대펍,분위기좋은음식점,캐슬프라하|\n",
       "|       0|979|                       수연산방|        136-823 서울 성북구 성북동 248 |02837 서울 성북구 성북로26길 8 (성북동, 상허 이태준 가옥) | 02-764-1736|                                                        성북동카페,찻집,전통찻집,성북동찻집,수연산방,한성대입구|\n",
       "+--------+---+-------------------------------+---------------------------------------+----------------------------------------------------------+------------+---------------------------------------------------------------------------------------------------------------+\n",
       "only showing top 20 rows"
      ]
     },
     "metadata": {},
     "output_type": "display_data"
    }
   ],
   "source": [
    "seoul_popular_trip.printSchema()\n",
    "display(seoul_popular_trip)"
   ]
  },
  {
   "cell_type": "code",
   "execution_count": 11,
   "metadata": {},
   "outputs": [],
   "source": [
    "from pyspark.sql.functions import *\n",
    "# seoul_popular_trip.limit(5).select(\"id\", \"name\", explode(split(\"tag\", \",\"))).groupBy(\"name\").count().show()\n",
    "top10 = (\n",
    "    seoul_popular_trip\n",
    "    .select(\"id\", \"name\", explode(split(\"tag\", \",\")))\n",
    "    .groupBy(\"name\")\n",
    "    .count()\n",
    "    .orderBy(desc(\"count\"))\n",
    "    .limit(10)\n",
    ")"
   ]
  },
  {
   "cell_type": "code",
   "execution_count": 12,
   "metadata": {},
   "outputs": [
    {
     "data": {
      "text/html": [
       "<table border='1'>\n",
       "<tr><th>name</th><th>count</th></tr>\n",
       "<tr><td>CJ 올리브마켓</td><td>36</td></tr>\n",
       "<tr><td>더 스트리트 (THE STREET)</td><td>32</td></tr>\n",
       "<tr><td>통인시장</td><td>30</td></tr>\n",
       "<tr><td>신세계면세점 (명동점)</td><td>28</td></tr>\n",
       "<tr><td>신세계백화점 본점</td><td>27</td></tr>\n",
       "<tr><td>401 (홍대)</td><td>26</td></tr>\n",
       "<tr><td>장진우식당</td><td>26</td></tr>\n",
       "<tr><td>젠틀몬스터 신사 플래그쉽 스토어</td><td>26</td></tr>\n",
       "<tr><td>설빙 신림2호점</td><td>24</td></tr>\n",
       "<tr><td>스튜디오콘크리트</td><td>22</td></tr>\n",
       "</table>\n"
      ],
      "text/plain": [
       "+-------------------------------+-----+\n",
       "|                           name|count|\n",
       "+-------------------------------+-----+\n",
       "|                  CJ 올리브마켓|   36|\n",
       "|       더 스트리트 (THE STREET)|   32|\n",
       "|                       통인시장|   30|\n",
       "|          신세계면세점 (명동점)|   28|\n",
       "|              신세계백화점 본점|   27|\n",
       "|                     401 (홍대)|   26|\n",
       "|                     장진우식당|   26|\n",
       "|젠틀몬스터 신사 플래그쉽 스토어|   26|\n",
       "|                 설빙 신림2호점|   24|\n",
       "|               스튜디오콘크리트|   22|\n",
       "+-------------------------------+-----+"
      ]
     },
     "metadata": {},
     "output_type": "display_data"
    }
   ],
   "source": [
    "display(top10)"
   ]
  },
  {
   "cell_type": "code",
   "execution_count": 13,
   "metadata": {},
   "outputs": [],
   "source": [
    "this_style_also_work_but = \"\"\"(\n",
    "    top10.write.format(\"jdbc\")\n",
    "    .option(\"url\", \"jdbc:mysql://mysql:3306/default\")\n",
    "    .option(\"driver\", \"com.mysql.jdbc.Driver\")\n",
    "    .option(\"dbtable\", \"top10\")\n",
    "    .option(\"user\", \"scott\")\n",
    "    .option(\"password\", \"tiger\")\n",
    "    .mode(\"overwrite\")\n",
    "    .save()\n",
    ")\"\"\""
   ]
  },
  {
   "cell_type": "code",
   "execution_count": 14,
   "metadata": {},
   "outputs": [],
   "source": [
    "top10.write.mode(\"overwrite\").jdbc(connString, \"top10\", properties=accessInfo)"
   ]
  },
  {
   "cell_type": "markdown",
   "metadata": {},
   "source": [
    "#### 2.1. 저장된 데이터 확인\n",
    "```bash\n",
    "bash> docker-compose exec mysql mysql -uscott -ptiger\n",
    "mysql> use default;\n",
    "mysql> select * from top10 order by count desc limit 10;\n",
    "```\n",
    "\n",
    "```text\n",
    "+-----------------------------------------------+-------+\n",
    "| name                                          | count |\n",
    "+-----------------------------------------------+-------+\n",
    "| CJ 올리브마켓                                 |    36 |\n",
    "| 더 스트리트 (THE STREET)                      |    32 |\n",
    "| 통인시장                                      |    30 |\n",
    "| 신세계면세점 (명동점)                         |    28 |\n",
    "| 신세계백화점 본점                             |    27 |\n",
    "| 젠틀몬스터 신사 플래그쉽 스토어               |    26 |\n",
    "| 401 (홍대)                                    |    26 |\n",
    "| 장진우식당                                    |    26 |\n",
    "| 설빙 신림2호점                                |    24 |\n",
    "| 너드온어스 (Nerd on earth)                    |    22 |\n",
    "+-----------------------------------------------+-------+\n",
    "```"
   ]
  },
  {
   "cell_type": "markdown",
   "metadata": {},
   "source": [
    "### <font color=red>1. [고급]</font> `seoul_popular_trip` 테이블에서 \n",
    "#### 1. 동일한 전화번호(tel)로 가장 많이 등록된 전화번호를 찾으세요\n",
    "#### 2. 가장 많이 등록된 순서 상위 10개의 전화번호를 추출해주세요\n",
    "* 전화번호가 null 혹은 empty('')인 값인 경우는 제외해 주세요\n",
    "\n",
    "#### 3. 데이터베이스에 접속하여 `fraud10` 테이블을 생성해 주세요\n",
    "* `default.fraud10` (`tel` string, `count` int) 이며 직접 생성해 두어야 합니다\n",
    "\n",
    "#### 4. 해당 데이터를 `fraud10` 테이블에 저장해 주세요\n",
    "\n",
    "<details><summary>[실습1] 출력 결과 확인 </summary>\n",
    "\n",
    "> 아래와 유사하게 방식으로 작성 되었다면 정답입니다\n",
    "\n",
    "```bash\n",
    "docker-compose exec mysql mysql -uscott -ptiger\n",
    "```\n",
    "\n",
    "```sql\n",
    "use default;\n",
    "create table if not exists fraud10 (tel varchar(30), count int);\n",
    "```\n",
    "\n",
    "```python\n",
    "seoul_popular_trip.printSchema()\n",
    "fraud_candidate = seoul_popular_trip.groupBy(\"tel\").count().orderBy(desc(\"count\")).limit(10)\n",
    "fraud_numbers = fraud_candidate.na.drop(subset=[\"tel\"]).where(\"tel != ''\")\n",
    "display(fraud_numbers)\n",
    "(\n",
    "    fraud_numbers\n",
    "    .write.format(\"jdbc\")\n",
    "    .option(\"url\", \"jdbc:mysql://mysql:3306/default\")\n",
    "    .option(\"driver\", \"com.mysql.jdbc.Driver\")\n",
    "    .option(\"dbtable\", \"fraud10\")\n",
    "    .option(\"user\", \"scott\")\n",
    "    .option(\"password\", \"tiger\")\n",
    "    .mode(\"overwrite\")\n",
    "    .save()\n",
    ")```\n",
    "\n",
    "</details>\n"
   ]
  },
  {
   "cell_type": "code",
   "execution_count": null,
   "metadata": {},
   "outputs": [],
   "source": [
    "# 여기에 실습 코드를 작성하고 실행하세요 (Shift+Enter)\n",
    "# docker-compose exec mysql mysql -usqoop -psqoop\n",
    "# use testdb;\n",
    "# create table if not exists fraud10 (tel varchar(30), count int);\n"
   ]
  },
  {
   "cell_type": "markdown",
   "metadata": {},
   "source": [
    "### <font color=red>2. [고급]</font> '1. 고급'에서 저장한 `fraud10` 테이블에서 \n",
    "#### 1. 스키마를 출력하세요\n",
    "#### 2. 데이터를 10건 출력하세요\n",
    "\n",
    "<details><summary>[실습2] 출력 결과 확인 </summary>\n",
    "\n",
    "> 아래와 유사하게 방식으로 작성 되었다면 정답입니다\n",
    "\n",
    "```python\n",
    "from pyspark.sql.context import SQLContext\n",
    "sc = spark.sparkContext\n",
    "sqlContext = SQLContext(sc)\n",
    "fraud10_loaded = (\n",
    "    sqlContext.read.format(\"jdbc\")\n",
    "    .option(\"url\", \"jdbc:mysql://mysql:3306/default\")\n",
    "    .option(\"driver\", \"com.mysql.jdbc.Driver\")\n",
    "    .option(\"dbtable\", \"fraud10\")\n",
    "    .option(\"user\", \"scott\")\n",
    "    .option(\"password\", \"tiger\")\n",
    "    .load()\n",
    ")\n",
    "fraud10_loaded.printSchema()\n",
    "display(fraud10_loaded)\n",
    "```\n",
    "\n",
    "</details>\n"
   ]
  },
  {
   "cell_type": "code",
   "execution_count": null,
   "metadata": {},
   "outputs": [],
   "source": [
    "# 여기에 실습 코드를 작성하고 실행하세요 (Shift+Enter)\n"
   ]
  },
  {
   "cell_type": "markdown",
   "metadata": {},
   "source": [
    "## 10. 참고자료\n",
    "\n",
    "#### 1. [Spark Programming Guide](https://spark.apache.org/docs/latest/sql-programming-guide.html)\n",
    "#### 2. [PySpark SQL Modules Documentation](https://spark.apache.org/docs/latest/api/python/pyspark.sql.html)\n",
    "#### 3. <a href=\"https://spark.apache.org/docs/3.0.1/api/sql/\" target=\"_blank\">PySpark 3.0.1 Builtin Functions</a>\n",
    "#### 4. [PySpark Search](https://spark.apache.org/docs/latest/api/python/search.html)\n",
    "#### 5. [Pyspark Functions](https://spark.apache.org/docs/latest/api/python/pyspark.sql.html?#module-pyspark.sql.functions)\n",
    "#### 6. [JDBC To Other Databases](https://spark.apache.org/docs/3.0.1/sql-data-sources-jdbc.html)\n"
   ]
  },
  {
   "cell_type": "code",
   "execution_count": null,
   "metadata": {},
   "outputs": [],
   "source": []
  }
 ],
 "metadata": {
  "kernelspec": {
   "display_name": "Python 3 (ipykernel)",
   "language": "python",
   "name": "python3"
  },
  "language_info": {
   "codemirror_mode": {
    "name": "ipython",
    "version": 3
   },
   "file_extension": ".py",
   "mimetype": "text/x-python",
   "name": "python",
   "nbconvert_exporter": "python",
   "pygments_lexer": "ipython3",
   "version": "3.11.6"
  }
 },
 "nbformat": 4,
 "nbformat_minor": 4
}
